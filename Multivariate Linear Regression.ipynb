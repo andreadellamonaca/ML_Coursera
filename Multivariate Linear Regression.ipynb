{
 "cells": [
  {
   "cell_type": "markdown",
   "metadata": {},
   "source": [
    "# Multivariate Linear Regression"
   ]
  },
  {
   "cell_type": "code",
   "execution_count": 1,
   "metadata": {},
   "outputs": [
    {
     "name": "stdout",
     "output_type": "stream",
     "text": [
      "Dataset size:  (47, 3)\n"
     ]
    }
   ],
   "source": [
    "import numpy as np\n",
    "data = np.loadtxt('data/ex1data2.txt', delimiter=',', dtype=np.float64)\n",
    "print('Dataset size: ', data.shape)"
   ]
  },
  {
   "cell_type": "code",
   "execution_count": 2,
   "metadata": {},
   "outputs": [
    {
     "name": "stdout",
     "output_type": "stream",
     "text": [
      "Training examples : 47\n",
      "Features: 2\n",
      "10 examples: \n",
      " [[2.104e+03 3.000e+00]\n",
      " [1.600e+03 3.000e+00]\n",
      " [2.400e+03 3.000e+00]\n",
      " [1.416e+03 2.000e+00]\n",
      " [3.000e+03 4.000e+00]\n",
      " [1.985e+03 4.000e+00]\n",
      " [1.534e+03 3.000e+00]\n",
      " [1.427e+03 3.000e+00]\n",
      " [1.380e+03 3.000e+00]\n",
      " [1.494e+03 3.000e+00]]\n"
     ]
    }
   ],
   "source": [
    "X = data[:, :2]\n",
    "y = data[:, -1]\n",
    "\n",
    "y = np.reshape(y, (y.shape[0], 1))\n",
    "\n",
    "m = X.shape[0]\n",
    "print('Training examples : {}'.format(m))\n",
    "n = X.shape[1]\n",
    "print('Features: {}'.format(n))\n",
    "\n",
    "print('10 examples: \\n', X[:10, :])"
   ]
  },
  {
   "cell_type": "markdown",
   "metadata": {},
   "source": [
    "## Feature Normalization\n",
    "### When we have a problem with multiple features, it is important to make sure that the features are on a similar scale; in fact if we have features with different range of values, the gradient descent takes a long time before reaching the minimum. Then we need to normalize some features in order to work with the same scale. The feature normalization can be expressed as follows\n",
    "$$\\large x_{i_{norm}} = \\frac{x_i - \\mu_i}{\\sigma_i} $$\n",
    "### where\n",
    "$$\\large \\mu_i = \\frac{1}{m} \\sum_{j=1}^m x_i^{(j)} $$\n",
    "$$\\large \\sigma_i = \\sqrt{\\frac{\\sum_{j=1}^m x_i^{(j)}-\\mu_i}{m}} $$"
   ]
  },
  {
   "cell_type": "code",
   "execution_count": 3,
   "metadata": {},
   "outputs": [],
   "source": [
    "def featureNormalize(X):\n",
    "    X_norm = X\n",
    "    mu = np.zeros((1, X.shape[1]))\n",
    "    sigma = np.zeros((1, X.shape[1]))\n",
    "    \n",
    "    mu = np.mean(X, axis=0)\n",
    "    sigma = np.std(X, axis=0)\n",
    "    \n",
    "    for i in range(X.shape[1]):\n",
    "        X_norm[:, i] = (X[:, i] - mu[i])/sigma[i]\n",
    "        \n",
    "    return X_norm, mu, sigma"
   ]
  },
  {
   "cell_type": "code",
   "execution_count": 4,
   "metadata": {},
   "outputs": [
    {
     "name": "stdout",
     "output_type": "stream",
     "text": [
      "[[ 0.13141542 -0.22609337]\n",
      " [-0.5096407  -0.22609337]\n",
      " [ 0.5079087  -0.22609337]\n",
      " [-0.74367706 -1.5543919 ]\n",
      " [ 1.27107075  1.10220517]\n",
      " [-0.01994505  1.10220517]\n",
      " [-0.59358852 -0.22609337]\n",
      " [-0.72968575 -0.22609337]\n",
      " [-0.78946678 -0.22609337]\n",
      " [-0.64446599 -0.22609337]]\n",
      "[2000.68085106    3.17021277]\n",
      "[7.86202619e+02 7.52842809e-01]\n"
     ]
    }
   ],
   "source": [
    "X_norm, mu, sigma = featureNormalize(X)\n",
    "print(X_norm[:10, :])\n",
    "print(mu)\n",
    "print(sigma)"
   ]
  },
  {
   "cell_type": "code",
   "execution_count": 5,
   "metadata": {},
   "outputs": [
    {
     "name": "stdout",
     "output_type": "stream",
     "text": [
      "(47, 3)\n"
     ]
    }
   ],
   "source": [
    "X_norm = np.concatenate([np.ones((m, 1)), X_norm], axis=1)\n",
    "X = np.concatenate([np.ones((m, 1)), X], axis=1)\n",
    "print(X_norm.shape)"
   ]
  },
  {
   "cell_type": "markdown",
   "metadata": {},
   "source": [
    "### We used the following model:\n",
    "$$\\large h_{\\theta}(x) = {\\theta_0} + {\\theta_1}x_1 + {\\theta_2}x_2$$\n",
    "### Cost function vectorized:\n",
    "$$\\large J({\\theta}) = \\frac{1}{2m} (X{\\theta} - y)^T(X{\\theta} - y) $$\n",
    "### Gradient Descent vectorized:\n",
    "$$\\large {\\theta} = {\\theta} - \\frac{\\alpha}{m} ((X \\theta - y)^T X)^T = {\\theta} - \\frac{\\alpha}{m} (X^T (X \\theta - y)) $$"
   ]
  },
  {
   "cell_type": "code",
   "execution_count": 6,
   "metadata": {},
   "outputs": [],
   "source": [
    "def computeCostVectorized(X, y, theta=[[0],[0],[0]]):\n",
    "    m=y.size\n",
    "    h=X.dot(theta)\n",
    "    J= ((h-y).T).dot(h-y)\n",
    "    return J/(2*m)\n",
    "\n",
    "def gradientDescentVectorized(X, y,theta=[[0],[0],[0]],alpha=0.01, n_iter=1500):\n",
    "    m=y.size\n",
    "    J = np.zeros((n_iter,1))\n",
    "    for i in range(n_iter):\n",
    "        h = X.dot(theta)\n",
    "        theta = theta - (alpha/m) * np.dot((X.T),(h-y))\n",
    "        J[i] = computeCostVectorized(X,y,theta)\n",
    "    return theta, J"
   ]
  },
  {
   "cell_type": "code",
   "execution_count": 7,
   "metadata": {},
   "outputs": [
    {
     "name": "stdout",
     "output_type": "stream",
     "text": [
      "Running gradient descent\n",
      "[[340412.65957447]\n",
      " [109447.79558639]\n",
      " [ -6578.3539709 ]]\n",
      "[[340412.65957447]\n",
      " [109447.79558639]\n",
      " [ -6578.3539709 ]]\n"
     ]
    }
   ],
   "source": [
    "print('Running gradient descent')\n",
    "alpha = 0.1\n",
    "num_iters = 400\n",
    "theta = np.zeros((3,1))\n",
    "theta, J_history = gradientDescentVectorized(X_norm,y, theta, alpha, num_iters)\n",
    "print(theta)\n",
    "\n",
    "\n",
    "theta_no_norm = np.zeros((3,1))\n",
    "theta_no_norm, J_history_no_norm = gradientDescentVectorized(X,y, theta_no_norm, alpha, num_iters)\n",
    "print(theta_no_norm)"
   ]
  },
  {
   "cell_type": "code",
   "execution_count": 11,
   "metadata": {},
   "outputs": [
    {
     "data": {
      "image/png": "[encoded data removed]",
      "text/plain": [
       "<Figure size 432x288 with 1 Axes>"
      ]
     },
     "metadata": {
      "needs_background": "light"
     },
     "output_type": "display_data"
    },
    {
     "name": "stdout",
     "output_type": "stream",
     "text": [
      "Theta computed from gradient descent: \n",
      "[[340412.65957447]\n",
      " [109447.79558639]\n",
      " [ -6578.3539709 ]]\n"
     ]
    }
   ],
   "source": [
    "from matplotlib import pyplot as plt\n",
    "\n",
    "# Plot the convergence graph\n",
    "plt.plot([i for i in range(num_iters)], J_history, '-b', label = 'cost')\n",
    "plt.plot([i for i in range(num_iters)], J_history_no_norm, '-r', label = 'cost_no_norm')\n",
    "plt.xlabel('Number of iterations') # Set the x−axis label\n",
    "plt.ylabel('Cost J') # Set the y−axis label\n",
    "plt.title('Cost behavior')\n",
    "plt.legend()\n",
    "plt.show()\n",
    "print(\"Theta computed from gradient descent: \\n{}\".format(theta))"
   ]
  },
  {
   "cell_type": "markdown",
   "metadata": {},
   "source": [
    "### Let's introduce a method to find the minimum analytically: the Normal Equation\n",
    "### The Normal Equation is a closed-form solution to linear regression then it has no need to choose alpha and iterations\n",
    "### Proof\n",
    "$$\\large J({\\theta}) = \\frac{1}{2m} (X{\\theta} - y)^T(X{\\theta} - y) $$\n",
    "$$\\large = \\frac{1}{2m} ((X{\\theta})^T - y^T)(X{\\theta} - y) $$\n",
    "$$\\large = \\frac{1}{2m} [(X{\\theta})^T(X{\\theta}) - (X{\\theta})^Ty - y^TX{\\theta} +y^Ty] $$\n",
    "$$\\large = \\frac{1}{2m} [\\theta^TX^TX\\theta - 2(X\\theta)^Ty + y^Ty]$$\n",
    "#### now we derive the expression and set it to zero in order to find the minimum:\n",
    "$$\\large \\frac{\\partial J(\\theta)}{\\partial \\theta} = 2X^TX\\theta - 2X^Ty = 0 $$\n",
    "$$\\large X^TX\\theta = X^Ty $$\n",
    "$$\\large \\theta = (X^TX)^{-1}X^Ty $$"
   ]
  },
  {
   "cell_type": "code",
   "execution_count": 9,
   "metadata": {},
   "outputs": [
    {
     "name": "stdout",
     "output_type": "stream",
     "text": [
      "[[340412.65957447]\n",
      " [109447.79646964]\n",
      " [ -6578.35485416]]\n"
     ]
    }
   ],
   "source": [
    "def normalEquation(X, y):\n",
    "    pseudo_inv = np.linalg.pinv(X.T.dot(X))\n",
    "    product = pseudo_inv.dot(X.T)\n",
    "    return product.dot(y)\n",
    "theta_ne = normalEquation(X,y)\n",
    "print(theta_ne)"
   ]
  },
  {
   "cell_type": "markdown",
   "metadata": {},
   "source": [
    "# Predict new values"
   ]
  },
  {
   "cell_type": "code",
   "execution_count": 10,
   "metadata": {},
   "outputs": [
    {
     "name": "stdout",
     "output_type": "stream",
     "text": [
      "Predicted price of a 1650 sq-ft, 3 br house (using normal equation): [[293081.4643349]]\n"
     ]
    }
   ],
   "source": [
    "x = np.array([1650, 3])\n",
    "x = np.array([1, (x[0]-mu[0])/sigma[0], (x[1]-mu[1])/sigma[1]])\n",
    "x = x.reshape((1, x.shape[0]))\n",
    "price = x.dot(theta_ne)\n",
    "\n",
    "print('Predicted price of a 1650 sq-ft, 3 br house (using normal equation): {}'.format(price))"
   ]
  },
  {
   "cell_type": "markdown",
   "metadata": {},
   "source": [
    "# Observation\n",
    "## The Normal Equation is a good tool in order to solve for the theta parameters but it has some drawbacks: it needs to compute the inverse of a matrix (the cost is very high) and it is slow if the number of features is large."
   ]
  }
 ],
 "metadata": {
  "kernelspec": {
   "display_name": "Python 3",
   "language": "python",
   "name": "python3"
  },
  "language_info": {
   "codemirror_mode": {
    "name": "ipython",
    "version": 3
   },
   "file_extension": ".py",
   "mimetype": "text/x-python",
   "name": "python",
   "nbconvert_exporter": "python",
   "pygments_lexer": "ipython3",
   "version": "3.5.2"
  }
 },
 "nbformat": 4,
 "nbformat_minor": 2
}
