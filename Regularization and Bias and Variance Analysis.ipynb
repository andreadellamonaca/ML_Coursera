{
 "cells": [
  {
   "cell_type": "code",
   "execution_count": 1,
   "metadata": {},
   "outputs": [],
   "source": [
    "import numpy as np\n",
    "import matplotlib.pyplot as plt\n",
    "\n",
    "import pandas as pd\n",
    "import seaborn as sns\n",
    "\n",
    "%matplotlib inline\n",
    "\n",
    "from sklearn.datasets import load_boston\n",
    "from sklearn.linear_model import LinearRegression\n",
    "from sklearn.metrics import mean_squared_error\n",
    "\n",
    "np.random.seed(9)\n",
    "boston_dataset = load_boston()"
   ]
  },
  {
   "cell_type": "code",
   "execution_count": 2,
   "metadata": {},
   "outputs": [
    {
     "name": "stdout",
     "output_type": "stream",
     "text": [
      "dict_keys(['data', 'feature_names', 'target', 'filename', 'DESCR'])\n",
      "****************************************************************************\n",
      ".. _boston_dataset:\n",
      "\n",
      "Boston house prices dataset\n",
      "---------------------------\n",
      "\n",
      "**Data Set Characteristics:**  \n",
      "\n",
      "    :Number of Instances: 506 \n",
      "\n",
      "    :Number of Attributes: 13 numeric/categorical predictive. Median Value (attribute 14) is usually the target.\n",
      "\n",
      "    :Attribute Information (in order):\n",
      "        - CRIM     per capita crime rate by town\n",
      "        - ZN       proportion of residential land zoned for lots over 25,000 sq.ft.\n",
      "        - INDUS    proportion of non-retail business acres per town\n",
      "        - CHAS     Charles River dummy variable (= 1 if tract bounds river; 0 otherwise)\n",
      "        - NOX      nitric oxides concentration (parts per 10 million)\n",
      "        - RM       average number of rooms per dwelling\n",
      "        - AGE      proportion of owner-occupied units built prior to 1940\n",
      "        - DIS      weighted distances to five Boston employment centres\n",
      "        - RAD      index of accessibility to radial highways\n",
      "        - TAX      full-value property-tax rate per $10,000\n",
      "        - PTRATIO  pupil-teacher ratio by town\n",
      "        - B        1000(Bk - 0.63)^2 where Bk is the proportion of blacks by town\n",
      "        - LSTAT    % lower status of the population\n",
      "        - MEDV     Median value of owner-occupied homes in $1000's\n",
      "\n",
      "    :Missing Attribute Values: None\n",
      "\n",
      "    :Creator: Harrison, D. and Rubinfeld, D.L.\n",
      "\n",
      "This is a copy of UCI ML housing dataset.\n",
      "https://archive.ics.uci.edu/ml/machine-learning-databases/housing/\n",
      "\n",
      "\n",
      "This dataset was taken from the StatLib library which is maintained at Carnegie Mellon University.\n",
      "\n",
      "The Boston house-price data of Harrison, D. and Rubinfeld, D.L. 'Hedonic\n",
      "prices and the demand for clean air', J. Environ. Economics & Management,\n",
      "vol.5, 81-102, 1978.   Used in Belsley, Kuh & Welsch, 'Regression diagnostics\n",
      "...', Wiley, 1980.   N.B. Various transformations are used in the table on\n",
      "pages 244-261 of the latter.\n",
      "\n",
      "The Boston house-price data has been used in many machine learning papers that address regression\n",
      "problems.   \n",
      "     \n",
      ".. topic:: References\n",
      "\n",
      "   - Belsley, Kuh & Welsch, 'Regression diagnostics: Identifying Influential Data and Sources of Collinearity', Wiley, 1980. 244-261.\n",
      "   - Quinlan,R. (1993). Combining Instance-Based and Model-Based Learning. In Proceedings on the Tenth International Conference of Machine Learning, 236-243, University of Massachusetts, Amherst. Morgan Kaufmann.\n",
      "\n"
     ]
    }
   ],
   "source": [
    "print(boston_dataset.keys())\n",
    "print('****************************************************************************')\n",
    "print(boston_dataset.DESCR)"
   ]
  },
  {
   "cell_type": "code",
   "execution_count": 3,
   "metadata": {},
   "outputs": [
    {
     "data": {
      "text/html": [
       "<div>\n",
       "<style scoped>\n",
       "    .dataframe tbody tr th:only-of-type {\n",
       "        vertical-align: middle;\n",
       "    }\n",
       "\n",
       "    .dataframe tbody tr th {\n",
       "        vertical-align: top;\n",
       "    }\n",
       "\n",
       "    .dataframe thead th {\n",
       "        text-align: right;\n",
       "    }\n",
       "</style>\n",
       "<table border=\"1\" class=\"dataframe\">\n",
       "  <thead>\n",
       "    <tr style=\"text-align: right;\">\n",
       "      <th></th>\n",
       "      <th>CRIM</th>\n",
       "      <th>ZN</th>\n",
       "      <th>INDUS</th>\n",
       "      <th>CHAS</th>\n",
       "      <th>NOX</th>\n",
       "      <th>RM</th>\n",
       "      <th>AGE</th>\n",
       "      <th>DIS</th>\n",
       "      <th>RAD</th>\n",
       "      <th>TAX</th>\n",
       "      <th>PTRATIO</th>\n",
       "      <th>B</th>\n",
       "      <th>LSTAT</th>\n",
       "    </tr>\n",
       "  </thead>\n",
       "  <tbody>\n",
       "    <tr>\n",
       "      <th>0</th>\n",
       "      <td>0.00632</td>\n",
       "      <td>18.0</td>\n",
       "      <td>2.31</td>\n",
       "      <td>0.0</td>\n",
       "      <td>0.538</td>\n",
       "      <td>6.575</td>\n",
       "      <td>65.2</td>\n",
       "      <td>4.0900</td>\n",
       "      <td>1.0</td>\n",
       "      <td>296.0</td>\n",
       "      <td>15.3</td>\n",
       "      <td>396.90</td>\n",
       "      <td>4.98</td>\n",
       "    </tr>\n",
       "    <tr>\n",
       "      <th>1</th>\n",
       "      <td>0.02731</td>\n",
       "      <td>0.0</td>\n",
       "      <td>7.07</td>\n",
       "      <td>0.0</td>\n",
       "      <td>0.469</td>\n",
       "      <td>6.421</td>\n",
       "      <td>78.9</td>\n",
       "      <td>4.9671</td>\n",
       "      <td>2.0</td>\n",
       "      <td>242.0</td>\n",
       "      <td>17.8</td>\n",
       "      <td>396.90</td>\n",
       "      <td>9.14</td>\n",
       "    </tr>\n",
       "    <tr>\n",
       "      <th>2</th>\n",
       "      <td>0.02729</td>\n",
       "      <td>0.0</td>\n",
       "      <td>7.07</td>\n",
       "      <td>0.0</td>\n",
       "      <td>0.469</td>\n",
       "      <td>7.185</td>\n",
       "      <td>61.1</td>\n",
       "      <td>4.9671</td>\n",
       "      <td>2.0</td>\n",
       "      <td>242.0</td>\n",
       "      <td>17.8</td>\n",
       "      <td>392.83</td>\n",
       "      <td>4.03</td>\n",
       "    </tr>\n",
       "    <tr>\n",
       "      <th>3</th>\n",
       "      <td>0.03237</td>\n",
       "      <td>0.0</td>\n",
       "      <td>2.18</td>\n",
       "      <td>0.0</td>\n",
       "      <td>0.458</td>\n",
       "      <td>6.998</td>\n",
       "      <td>45.8</td>\n",
       "      <td>6.0622</td>\n",
       "      <td>3.0</td>\n",
       "      <td>222.0</td>\n",
       "      <td>18.7</td>\n",
       "      <td>394.63</td>\n",
       "      <td>2.94</td>\n",
       "    </tr>\n",
       "    <tr>\n",
       "      <th>4</th>\n",
       "      <td>0.06905</td>\n",
       "      <td>0.0</td>\n",
       "      <td>2.18</td>\n",
       "      <td>0.0</td>\n",
       "      <td>0.458</td>\n",
       "      <td>7.147</td>\n",
       "      <td>54.2</td>\n",
       "      <td>6.0622</td>\n",
       "      <td>3.0</td>\n",
       "      <td>222.0</td>\n",
       "      <td>18.7</td>\n",
       "      <td>396.90</td>\n",
       "      <td>5.33</td>\n",
       "    </tr>\n",
       "  </tbody>\n",
       "</table>\n",
       "</div>"
      ],
      "text/plain": [
       "      CRIM    ZN  INDUS  CHAS    NOX     RM   AGE     DIS  RAD    TAX  \\\n",
       "0  0.00632  18.0   2.31   0.0  0.538  6.575  65.2  4.0900  1.0  296.0   \n",
       "1  0.02731   0.0   7.07   0.0  0.469  6.421  78.9  4.9671  2.0  242.0   \n",
       "2  0.02729   0.0   7.07   0.0  0.469  7.185  61.1  4.9671  2.0  242.0   \n",
       "3  0.03237   0.0   2.18   0.0  0.458  6.998  45.8  6.0622  3.0  222.0   \n",
       "4  0.06905   0.0   2.18   0.0  0.458  7.147  54.2  6.0622  3.0  222.0   \n",
       "\n",
       "   PTRATIO       B  LSTAT  \n",
       "0     15.3  396.90   4.98  \n",
       "1     17.8  396.90   9.14  \n",
       "2     17.8  392.83   4.03  \n",
       "3     18.7  394.63   2.94  \n",
       "4     18.7  396.90   5.33  "
      ]
     },
     "execution_count": 3,
     "metadata": {},
     "output_type": "execute_result"
    }
   ],
   "source": [
    "boston = pd.DataFrame(boston_dataset.data, columns=boston_dataset.feature_names)\n",
    "boston.head()"
   ]
  },
  {
   "cell_type": "code",
   "execution_count": 4,
   "metadata": {},
   "outputs": [
    {
     "data": {
      "text/html": [
       "<div>\n",
       "<style scoped>\n",
       "    .dataframe tbody tr th:only-of-type {\n",
       "        vertical-align: middle;\n",
       "    }\n",
       "\n",
       "    .dataframe tbody tr th {\n",
       "        vertical-align: top;\n",
       "    }\n",
       "\n",
       "    .dataframe thead th {\n",
       "        text-align: right;\n",
       "    }\n",
       "</style>\n",
       "<table border=\"1\" class=\"dataframe\">\n",
       "  <thead>\n",
       "    <tr style=\"text-align: right;\">\n",
       "      <th></th>\n",
       "      <th>CRIM</th>\n",
       "      <th>ZN</th>\n",
       "      <th>INDUS</th>\n",
       "      <th>CHAS</th>\n",
       "      <th>NOX</th>\n",
       "      <th>RM</th>\n",
       "      <th>AGE</th>\n",
       "      <th>DIS</th>\n",
       "      <th>RAD</th>\n",
       "      <th>TAX</th>\n",
       "      <th>PTRATIO</th>\n",
       "      <th>B</th>\n",
       "      <th>LSTAT</th>\n",
       "      <th>MEDV</th>\n",
       "    </tr>\n",
       "  </thead>\n",
       "  <tbody>\n",
       "    <tr>\n",
       "      <th>0</th>\n",
       "      <td>0.00632</td>\n",
       "      <td>18.0</td>\n",
       "      <td>2.31</td>\n",
       "      <td>0.0</td>\n",
       "      <td>0.538</td>\n",
       "      <td>6.575</td>\n",
       "      <td>65.2</td>\n",
       "      <td>4.0900</td>\n",
       "      <td>1.0</td>\n",
       "      <td>296.0</td>\n",
       "      <td>15.3</td>\n",
       "      <td>396.90</td>\n",
       "      <td>4.98</td>\n",
       "      <td>24.0</td>\n",
       "    </tr>\n",
       "    <tr>\n",
       "      <th>1</th>\n",
       "      <td>0.02731</td>\n",
       "      <td>0.0</td>\n",
       "      <td>7.07</td>\n",
       "      <td>0.0</td>\n",
       "      <td>0.469</td>\n",
       "      <td>6.421</td>\n",
       "      <td>78.9</td>\n",
       "      <td>4.9671</td>\n",
       "      <td>2.0</td>\n",
       "      <td>242.0</td>\n",
       "      <td>17.8</td>\n",
       "      <td>396.90</td>\n",
       "      <td>9.14</td>\n",
       "      <td>21.6</td>\n",
       "    </tr>\n",
       "    <tr>\n",
       "      <th>2</th>\n",
       "      <td>0.02729</td>\n",
       "      <td>0.0</td>\n",
       "      <td>7.07</td>\n",
       "      <td>0.0</td>\n",
       "      <td>0.469</td>\n",
       "      <td>7.185</td>\n",
       "      <td>61.1</td>\n",
       "      <td>4.9671</td>\n",
       "      <td>2.0</td>\n",
       "      <td>242.0</td>\n",
       "      <td>17.8</td>\n",
       "      <td>392.83</td>\n",
       "      <td>4.03</td>\n",
       "      <td>34.7</td>\n",
       "    </tr>\n",
       "    <tr>\n",
       "      <th>3</th>\n",
       "      <td>0.03237</td>\n",
       "      <td>0.0</td>\n",
       "      <td>2.18</td>\n",
       "      <td>0.0</td>\n",
       "      <td>0.458</td>\n",
       "      <td>6.998</td>\n",
       "      <td>45.8</td>\n",
       "      <td>6.0622</td>\n",
       "      <td>3.0</td>\n",
       "      <td>222.0</td>\n",
       "      <td>18.7</td>\n",
       "      <td>394.63</td>\n",
       "      <td>2.94</td>\n",
       "      <td>33.4</td>\n",
       "    </tr>\n",
       "    <tr>\n",
       "      <th>4</th>\n",
       "      <td>0.06905</td>\n",
       "      <td>0.0</td>\n",
       "      <td>2.18</td>\n",
       "      <td>0.0</td>\n",
       "      <td>0.458</td>\n",
       "      <td>7.147</td>\n",
       "      <td>54.2</td>\n",
       "      <td>6.0622</td>\n",
       "      <td>3.0</td>\n",
       "      <td>222.0</td>\n",
       "      <td>18.7</td>\n",
       "      <td>396.90</td>\n",
       "      <td>5.33</td>\n",
       "      <td>36.2</td>\n",
       "    </tr>\n",
       "  </tbody>\n",
       "</table>\n",
       "</div>"
      ],
      "text/plain": [
       "      CRIM    ZN  INDUS  CHAS    NOX     RM   AGE     DIS  RAD    TAX  \\\n",
       "0  0.00632  18.0   2.31   0.0  0.538  6.575  65.2  4.0900  1.0  296.0   \n",
       "1  0.02731   0.0   7.07   0.0  0.469  6.421  78.9  4.9671  2.0  242.0   \n",
       "2  0.02729   0.0   7.07   0.0  0.469  7.185  61.1  4.9671  2.0  242.0   \n",
       "3  0.03237   0.0   2.18   0.0  0.458  6.998  45.8  6.0622  3.0  222.0   \n",
       "4  0.06905   0.0   2.18   0.0  0.458  7.147  54.2  6.0622  3.0  222.0   \n",
       "\n",
       "   PTRATIO       B  LSTAT  MEDV  \n",
       "0     15.3  396.90   4.98  24.0  \n",
       "1     17.8  396.90   9.14  21.6  \n",
       "2     17.8  392.83   4.03  34.7  \n",
       "3     18.7  394.63   2.94  33.4  \n",
       "4     18.7  396.90   5.33  36.2  "
      ]
     },
     "execution_count": 4,
     "metadata": {},
     "output_type": "execute_result"
    }
   ],
   "source": [
    "boston['MEDV'] = boston_dataset.target\n",
    "boston.head()"
   ]
  },
  {
   "cell_type": "code",
   "execution_count": 5,
   "metadata": {},
   "outputs": [
    {
     "data": {
      "text/plain": [
       "CRIM       0\n",
       "ZN         0\n",
       "INDUS      0\n",
       "CHAS       0\n",
       "NOX        0\n",
       "RM         0\n",
       "AGE        0\n",
       "DIS        0\n",
       "RAD        0\n",
       "TAX        0\n",
       "PTRATIO    0\n",
       "B          0\n",
       "LSTAT      0\n",
       "MEDV       0\n",
       "dtype: int64"
      ]
     },
     "execution_count": 5,
     "metadata": {},
     "output_type": "execute_result"
    }
   ],
   "source": [
    "boston.isnull().sum()"
   ]
  },
  {
   "cell_type": "markdown",
   "metadata": {},
   "source": [
    "## Let's split our dataset in training (60%), validation (20%) and test(20%)"
   ]
  },
  {
   "cell_type": "code",
   "execution_count": 6,
   "metadata": {},
   "outputs": [
    {
     "name": "stdout",
     "output_type": "stream",
     "text": [
      "(303, 2) (101, 2) (102, 2)\n",
      "(303,) (101,) (102,)\n",
      "(303,) (101,) (102,)\n",
      "(303, 2) (101, 2) (102, 2)\n"
     ]
    }
   ],
   "source": [
    "VARIABLE = 'LSTAT'\n",
    "X = boston[VARIABLE].values.reshape((boston[VARIABLE].shape[0], 1))\n",
    "y = boston['MEDV'].values.reshape((X.shape[0], 1))\n",
    "\n",
    "df = pd.DataFrame(np.concatenate([X, y], axis=1))\n",
    "#print(df.shape)\n",
    "\n",
    "train, val, test = np.split(df.sample(frac=1), [int(.6*len(df)), int(.8*len(df))])\n",
    "print(train.shape, val.shape, test.shape)\n",
    "\n",
    "X_train, y_train = train[0], train[1]\n",
    "X_val, y_val = val[0], val[1]\n",
    "X_test, y_test = test[0], test[1]\n",
    "print(X_train.shape, X_val.shape, X_test.shape)\n",
    "print(y_train.shape, y_val.shape, y_test.shape)\n",
    "\n",
    "X_train, y_train = np.reshape([X_train], (train.shape[0], 1)), np.reshape([y_train], (train.shape[0], 1))\n",
    "X_val, y_val = np.reshape([X_val], (val.shape[0], 1)), np.reshape([y_val], (val.shape[0], 1))\n",
    "X_test, y_test = np.reshape([X_test], (test.shape[0], 1)), np.reshape([y_test], (test.shape[0], 1))\n",
    "\n",
    "X_train = np.c_[np.ones((X_train.shape[0], 1)), X_train]\n",
    "X_val = np.c_[np.ones((X_val.shape[0], 1)), X_val]\n",
    "X_test = np.c_[np.ones((X_test.shape[0], 1)), X_test]\n",
    "print(X_train.shape, X_val.shape, X_test.shape)"
   ]
  },
  {
   "cell_type": "markdown",
   "metadata": {},
   "source": [
    "# Linear Regression with Regularization\n",
    "## 2.1 Cost function (we do not regularize theta_0)\n",
    "$$\\large h_{\\theta}(x) = \\theta_0 + \\theta_{1}x = X\\theta \\\\$$\n",
    "$$\\large J(\\theta) = \\frac{1}{2m}\\sum_{i=1}^{m}(h_{\\theta}(x^{(i)})-y^{(i)})^2 + \\frac{\\lambda}{2m} \\sum_{j=1}^{n}\\theta^2_j \\\\ $$\n",
    "\n",
    "$$\\large J(\\theta) = \\frac{1}{2m}(X\\theta -y)^T(X\\theta -y)+\\frac{\\lambda}{2m}(\\theta_r^T\\theta_r)$$\n",
    "$$\\large \\theta_r = \\begin{bmatrix}\n",
    "0 \\\\\n",
    "\\theta_{1} \\\\\n",
    "\\vdots \\\\\n",
    "\\theta_{n+1}\n",
    "\\end{bmatrix}$$\n",
    "\n",
    "## 2.2 Gradient\n",
    "\n",
    "$$\\large \\frac{\\partial J(\\theta)}{\\partial \\theta_0} = \\frac{1}{m}\\sum_{i=1}^{m}(h_{\\theta}(x^{(i)})-y^{(i)})x_0^{(i)} \\\\$$\n",
    "$$\\large \\frac{\\partial J(\\theta)}{\\partial \\theta_j} = \\frac{1}{m}\\sum_{i=1}^{m}(h_{\\theta}(x^{(i)})-y^{(i)})x_j^{(i)} + \\frac{\\lambda}{m}\\theta_j$$\n",
    "\n",
    "## 2.3 Gradient Vectorized\n",
    "$$\\large \\frac{\\partial J(\\theta)}{\\partial \\theta_0} = \\frac{1}{m}X^T(X\\theta - y) \\\\$$\n",
    "$$\\large \\frac{\\partial J(\\theta)}{\\partial \\theta_j} = \\frac{1}{m}X^T(X\\theta - y) + \\frac{\\lambda}{m}\\theta_r \\\\ $$\n",
    "\n",
    "## 2.4 Update Rule\n",
    "\n",
    "$$\\large \\theta_j := \\theta_j - \\frac{1}{m}\\sum_{i=1}^{m}(h_{\\theta}(x^{(i)})-y^{(i)})x_j^{(i)} + \\frac{\\lambda}{m}\\theta_j $$\n",
    "\n",
    "$$\\large = \\theta_j(1 - \\frac{\\alpha\\lambda}{m}) - \\frac{1}{m}\\sum_{i=1}^{m}(h_{\\theta}(x^{(i)})-y^{(i)})x_j^{(i)}$$"
   ]
  },
  {
   "cell_type": "code",
   "execution_count": 7,
   "metadata": {},
   "outputs": [],
   "source": [
    "def regCost(theta, X, y, lambda_reg):\n",
    "    m = y.shape[0]\n",
    "    h = X.dot(theta)\n",
    "    J = np.sum(np.square(h-y)) + lambda_reg*np.sum(np.square(theta[1:]))\n",
    "    return (J/(2*m))\n",
    "\n",
    "def regGradient(theta, X, y, lambda_reg):\n",
    "    m = y.shape[0]\n",
    "    theta_r = np.copy(theta)\n",
    "    theta_r[0] = 0\n",
    "    h = X.dot(theta)\n",
    "    dJ = (1/m)*((X.T).dot(h-y)+ lambda_reg*theta_r)\n",
    "    return (dJ.flatten())\n",
    "\n",
    "def regGradientDescentVectorized( X, y, theta, alpha, n_iter, lambda_reg):\n",
    "    m=y.shape[0]\n",
    "    J = np.zeros(n_iter)\n",
    "    for i in range(0,n_iter):\n",
    "        h = X.dot(theta)\n",
    "        gradient = regGradient(theta, X, y , lambda_reg)\n",
    "        gradient = np.reshape([gradient], (gradient.shape[0],1))\n",
    "        theta = theta - (alpha) * gradient\n",
    "        J[i] = regCost(theta, X, y, lambda_reg)\n",
    "    return (J,theta)"
   ]
  },
  {
   "cell_type": "code",
   "execution_count": 8,
   "metadata": {
    "scrolled": false
   },
   "outputs": [
    {
     "name": "stdout",
     "output_type": "stream",
     "text": [
      "160.7982498349835\n",
      "[ -9.79808581 -25.97609439]\n"
     ]
    }
   ],
   "source": [
    "initial_theta = np.ones((X_train.shape[1], 1))\n",
    "cost = regCost(initial_theta, X_train, y_train, 0)\n",
    "gradient = regGradient(initial_theta, X_train, y_train, 0)\n",
    "print(cost)\n",
    "print(gradient)"
   ]
  },
  {
   "cell_type": "markdown",
   "metadata": {
    "scrolled": false
   },
   "source": [
    "# Bias and Variance Analysis\n",
    "## We introduce some tools to diagnose if the learning problem is suffering from bias or variance problem\n",
    "## If our problem suffers from high bias, it means that the model underfits. Then we can try 3 approaches:\n",
    "### 1. To get additional features\n",
    "### 2. To add polynomial features\n",
    "### 3. To decrease the regularization term\n",
    "## If our problem suffers from high variance, it means that the model overfits. Then we can try 3 approaches:\n",
    "### 1. To get more training examples\n",
    "### 2. To reduce the set of features\n",
    "### 3. To increase the regularization term"
   ]
  },
  {
   "cell_type": "code",
   "execution_count": 9,
   "metadata": {},
   "outputs": [],
   "source": [
    "def polynomial_features(X, degree):\n",
    "    for i in range(1, degree):\n",
    "        colname = dataframe.columns[0]+'^'+str(i+1)\n",
    "        X[colname] = np.power(X[VARIABLE], i+1)\n",
    "    return X\n",
    "\n",
    "def normalEquation(X, y):\n",
    "    pseudo_inv = np.linalg.pinv(X.T.dot(X))\n",
    "    product = pseudo_inv.dot(X.T)\n",
    "    return product.dot(y)"
   ]
  },
  {
   "cell_type": "markdown",
   "metadata": {},
   "source": [
    "## Let's evaluate the cost function on the training set and the validation set to the increase of the polynomial degree and without regularization"
   ]
  },
  {
   "cell_type": "code",
   "execution_count": 10,
   "metadata": {},
   "outputs": [
    {
     "name": "stdout",
     "output_type": "stream",
     "text": [
      "[18.533964398266033, 14.336088185911802, 13.595530380992917, 12.609790250734594, 19.281761790719106, 131.2629805944351, 181.47788178458, 216.36926694776014, 239.437899532893, 255.18171953440262]\n",
      "[21.907005175891513, 16.69923969942444, 15.203813493388687, 14.337475950012152, 49.24424834994702, 390.3368956432207, 728.404208098371, 1199.265340921378, 1930.5225722189437, 3171.666757364219]\n"
     ]
    }
   ],
   "source": [
    "dataframe = pd.DataFrame(X_train[:, 1], columns = [VARIABLE])\n",
    "dataframev = pd.DataFrame(X_val[:, 1], columns = [VARIABLE])\n",
    "\n",
    "costs_t = []\n",
    "costs_v = []\n",
    "for i in range(1, 11):\n",
    "    X_t = np.concatenate([np.ones((X_train.shape[0],1)), polynomial_features(dataframe, i).values], axis=1)\n",
    "    theta_ne_t = normalEquation(X_t, y_train)\n",
    "    cost_t = regCost(theta_ne_t, X_t, y_train, 0)\n",
    "    costs_t.append(cost_t)\n",
    "    X_v = np.concatenate([np.ones((X_val.shape[0],1)), polynomial_features(dataframev, i).values], axis=1)\n",
    "    cost_v = regCost(theta_ne_t, X_v, y_val, 0)\n",
    "    costs_v.append(cost_v)\n",
    "print(costs_t)\n",
    "print(costs_v)"
   ]
  },
  {
   "cell_type": "code",
   "execution_count": 11,
   "metadata": {},
   "outputs": [
    {
     "data": {
      "image/png": "[encoded data removed]",
      "text/plain": [
       "<Figure size 1152x648 with 1 Axes>"
      ]
     },
     "metadata": {
      "needs_background": "light"
     },
     "output_type": "display_data"
    }
   ],
   "source": [
    "# Plot the convergence graph\n",
    "plt.figure(figsize=(16,9))\n",
    "plt.plot([i for i in range(1,11)], costs_t, '-b', label = 'Cost_train')\n",
    "plt.plot([i for i in range(1,11)], costs_v, '-r', label = 'Cost_val')\n",
    "plt.xlabel('polynomial degree') # Set the x−axis label\n",
    "plt.ylabel('Cost J') # Set the y−axis label\n",
    "plt.title('Cost behavior')\n",
    "plt.legend()\n",
    "plt.show()"
   ]
  },
  {
   "cell_type": "markdown",
   "metadata": {},
   "source": [
    "## We want to minimize both errors, then we choose the 4th degree as the best model."
   ]
  },
  {
   "cell_type": "markdown",
   "metadata": {},
   "source": [
    "## Now let's evaluate the chosen model to the increase of the regularization term\n",
    "## For this purpose, let's introduce the regularized normal equation:\n",
    "$$\\large \\theta = (X^TX+E)^{-1}X^Ty $$\n",
    "## where\n",
    "$$\\large E = \\begin{bmatrix}\n",
    "0 & 0 & \\dots & 0\\\\\n",
    "0 & \\lambda & \\dots & 0 \\\\\n",
    "\\vdots & \\vdots & \\ddots & \\vdots \\\\\n",
    "0 & 0 & ... & \\lambda \\\\\n",
    "\\end{bmatrix}$$"
   ]
  },
  {
   "cell_type": "code",
   "execution_count": 12,
   "metadata": {},
   "outputs": [],
   "source": [
    "def regNormalEquation(X, y, lambda_reg):\n",
    "    m=X.shape[1]\n",
    "    E = np.identity(m)*lambda_reg\n",
    "    E[0,0] = 0\n",
    "    pseudo_inv = np.linalg.pinv(X.T.dot(X) + E)\n",
    "    product = pseudo_inv.dot(X.T)\n",
    "    return product.dot(y)"
   ]
  },
  {
   "cell_type": "code",
   "execution_count": 18,
   "metadata": {},
   "outputs": [
    {
     "name": "stdout",
     "output_type": "stream",
     "text": [
      "[12.609790250734594, 12.61108657282577, 12.61238179027853, 12.614968916916139, 12.620129976514356, 12.630399634157765, 12.650731576833058, 12.690585267335386, 12.767198738350713, 12.909116511554275, 13.15481291958373, 13.534241994860249]\n",
      "[14.337475950012152, 14.339545739980021, 14.341613664090154, 14.345744891884774, 14.353989502681138, 14.370404594198174, 14.402942240640126, 14.466872954383081, 14.590331720647386, 14.820979501186956, 15.226287599913089, 15.867137672474756]\n"
     ]
    }
   ],
   "source": [
    "dataframe2 = pd.DataFrame(X_train[:, 1], columns = [VARIABLE])\n",
    "dataframev2 = pd.DataFrame(X_val[:, 1], columns = [VARIABLE])\n",
    "\n",
    "X_t4 = np.concatenate([np.ones((X_train.shape[0],1)), polynomial_features(dataframe2, 4).values], axis=1)\n",
    "\n",
    "X_v4 = np.concatenate([np.ones((X_val.shape[0],1)), polynomial_features(dataframev2, 4).values], axis=1)\n",
    "\n",
    "regcosts = []\n",
    "regcosts_v = []\n",
    "lamb = []\n",
    "theta_t4 = regNormalEquation(X_t4, y_train, 0)\n",
    "cost_reg = regCost(theta_t4, X_t4, y_train, 0)\n",
    "regcosts.append(cost_reg)\n",
    "cost_reg_v = regCost(theta_t4, X_v4, y_val, 0)\n",
    "regcosts_v.append(cost_reg_v)\n",
    "lamb.append(0)\n",
    "lamb.append(0.01)\n",
    "while lamb[len(lamb)-1]<11:\n",
    "    theta_t4 = regNormalEquation(X_t4, y_train, lamb[len(lamb)-1])\n",
    "    cost_reg = regCost(theta_t4, X_t4, y_train, lamb[len(lamb)-1])\n",
    "    regcosts.append(cost_reg)\n",
    "    cost_reg_v = regCost(theta_t4, X_v4, y_val, lamb[len(lamb)-1])\n",
    "    regcosts_v.append(cost_reg_v)\n",
    "    lamb.append(lamb[len(lamb)-1]*2)\n",
    "\n",
    "print(regcosts)\n",
    "print(regcosts_v)"
   ]
  },
  {
   "cell_type": "code",
   "execution_count": 19,
   "metadata": {},
   "outputs": [
    {
     "data": {
      "image/png": "[encoded data removed]",
      "text/plain": [
       "<Figure size 720x360 with 1 Axes>"
      ]
     },
     "metadata": {
      "needs_background": "light"
     },
     "output_type": "display_data"
    }
   ],
   "source": [
    "plt.figure(figsize=(10,5))\n",
    "plt.plot(lamb[:len(lamb)-1], regcosts, '-b', label = 'Cost_train')\n",
    "plt.plot(lamb[:len(lamb)-1], regcosts_v, '-r', label = 'Cost_val')\n",
    "plt.xlabel('lambda') # Set the x−axis label\n",
    "plt.ylabel('Cost J') # Set the y−axis label\n",
    "#plt.ylim(13, 16)\n",
    "plt.title('Cost behavior')\n",
    "plt.legend()\n",
    "plt.show()"
   ]
  },
  {
   "cell_type": "markdown",
   "metadata": {},
   "source": [
    "## We want to minimize both errors, then we choose the regularization term equal to 0\n",
    "## Now let's evaluate the chosen model and the chosen regularization term to the increase of the training set size"
   ]
  },
  {
   "cell_type": "code",
   "execution_count": 15,
   "metadata": {},
   "outputs": [
    {
     "name": "stdout",
     "output_type": "stream",
     "text": [
      "[30, 60, 90, 121, 151, 181, 212, 242, 272, 303]\n"
     ]
    }
   ],
   "source": [
    "X_array = []\n",
    "y_array = []\n",
    "leng = []\n",
    "used_lambda = 0\n",
    "\n",
    "costs_t = []\n",
    "costs_v = []\n",
    "degree=4\n",
    "\n",
    "for i in range(1,11):\n",
    "    X_temp = X_train[:int(X_train.shape[0]*(i*0.1))]\n",
    "    y_temp = y_train[:int(y_train.shape[0]*(i*0.1))]\n",
    "    dataframe3 = pd.DataFrame(X_temp[:, 1], columns = [VARIABLE])\n",
    "    dataframev3 = pd.DataFrame(X_val[:, 1], columns = [VARIABLE])\n",
    "    X_i = np.concatenate([np.ones((X_temp.shape[0],1)), polynomial_features(dataframe3, degree).values], axis=1)\n",
    "    theta_ne_t = regNormalEquation(X_i, y_temp, used_lambda)\n",
    "    cost_t = regCost(theta_ne_t, X_i, y_temp, used_lambda)\n",
    "    costs_t.append(cost_t)\n",
    "    \n",
    "    X_iv = np.concatenate([np.ones((X_val.shape[0],1)), polynomial_features(dataframev3, degree).values], axis=1)\n",
    "    cost_v = regCost(theta_ne_t, X_iv, y_val, used_lambda)\n",
    "    costs_v.append(cost_v)\n",
    "    leng.append(X_temp.shape[0])\n",
    "\n",
    "\n",
    "print(leng)"
   ]
  },
  {
   "cell_type": "code",
   "execution_count": 17,
   "metadata": {},
   "outputs": [
    {
     "data": {
      "image/png": "[encoded data removed]",
      "text/plain": [
       "<Figure size 1152x648 with 1 Axes>"
      ]
     },
     "metadata": {
      "needs_background": "light"
     },
     "output_type": "display_data"
    }
   ],
   "source": [
    "plt.figure(figsize=(16,9))\n",
    "plt.plot(leng, costs_t, '-b', label = 'cost_train')\n",
    "plt.plot(leng, costs_v, '-r', label = 'cost_val')\n",
    "\n",
    "\n",
    "plt.xlabel('train length') # Set the x−axis label\n",
    "plt.ylabel('Cost J') # Set the y−axis label\n",
    "plt.title('Cost behavior')\n",
    "plt.legend()\n",
    "plt.show()"
   ]
  },
  {
   "cell_type": "markdown",
   "metadata": {},
   "source": [
    "## This plot shows a high bias problem because there is an high error for both cost functions. Probably the problem is the way we represent the data."
   ]
  }
 ],
 "metadata": {
  "kernelspec": {
   "display_name": "Python 3",
   "language": "python",
   "name": "python3"
  },
  "language_info": {
   "codemirror_mode": {
    "name": "ipython",
    "version": 3
   },
   "file_extension": ".py",
   "mimetype": "text/x-python",
   "name": "python",
   "nbconvert_exporter": "python",
   "pygments_lexer": "ipython3",
   "version": "3.5.2"
  }
 },
 "nbformat": 4,
 "nbformat_minor": 2
}
